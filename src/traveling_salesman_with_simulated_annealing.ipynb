{
 "cells": [
  {
   "cell_type": "code",
   "execution_count": 51,
   "metadata": {
    "collapsed": true,
    "pycharm": {
     "name": "#%%\n"
    }
   },
   "outputs": [],
   "source": [
    "from geopy.distance import distance as geodesic_distance\n",
    "\n",
    "\n",
    "class City:\n",
    "    def __init__(self, name: str, geo_lat: float, geo_lon: float):\n",
    "        self.name = name\n",
    "        self.geo_lat = geo_lat\n",
    "        self.geo_lon = geo_lon\n",
    "\n",
    "    def __str__(self):\n",
    "        return self.name\n",
    "\n",
    "    def get_coordinates(self):\n",
    "        return self.geo_lat, self.geo_lon\n",
    "\n",
    "    def distance_to(self, city, units: str = 'km'):\n",
    "        distance = geodesic_distance(self.get_coordinates(), city.get_coordinates())\n",
    "        if units == 'km':\n",
    "            return distance.km\n",
    "        else:\n",
    "            raise NotImplementedError"
   ]
  },
  {
   "cell_type": "code",
   "execution_count": 2,
   "outputs": [],
   "source": [
    "import pandas as pd\n",
    "\n",
    "\n",
    "cities = pd.read_csv('../data/city.csv')"
   ],
   "metadata": {
    "collapsed": false,
    "pycharm": {
     "name": "#%%\n"
    }
   }
  },
  {
   "cell_type": "code",
   "execution_count": 3,
   "outputs": [
    {
     "data": {
      "text/plain": "                    address  postal_code country federal_district region_type  \\\n0   Респ Адыгея, г Адыгейск     385200.0  Россия            Южный        Респ   \n1                  г Майкоп     385000.0  Россия            Южный        Респ   \n2           г Горно-Алтайск     649000.0  Россия        Сибирский        Респ   \n3  Алтайский край, г Алейск     658125.0  Россия        Сибирский        край   \n4                 г Барнаул     656000.0  Россия        Сибирский        край   \n\n      region area_type area city_type           city  ... fias_level  \\\n0     Адыгея       NaN  NaN         г       Адыгейск  ...          4   \n1     Адыгея       NaN  NaN         г         Майкоп  ...          4   \n2      Алтай       NaN  NaN         г  Горно-Алтайск  ...          4   \n3  Алтайский       NaN  NaN         г         Алейск  ...          4   \n4  Алтайский       NaN  NaN         г        Барнаул  ...          4   \n\n  capital_marker        okato        oktmo  tax_office  timezone    geo_lat  \\\n0              0  79403000000  79703000001         107     UTC+3  44.878414   \n1              2  79401000000  79701000001         105     UTC+3  44.609827   \n2              2  84401000000  84701000001         400     UTC+7  51.958103   \n3              0   1403000000   1703000001        2201     UTC+7  52.492251   \n4              2   1401000000   1701000001        2200     UTC+7  53.347997   \n\n     geo_lon  population foundation_year  \n0  39.190289       12689            1969  \n1  40.100661      144055            1857  \n2  85.960324       62861            1830  \n3  82.779361       28528            1913  \n4  83.779806      635585            1730  \n\n[5 rows x 24 columns]",
      "text/html": "<div>\n<style scoped>\n    .dataframe tbody tr th:only-of-type {\n        vertical-align: middle;\n    }\n\n    .dataframe tbody tr th {\n        vertical-align: top;\n    }\n\n    .dataframe thead th {\n        text-align: right;\n    }\n</style>\n<table border=\"1\" class=\"dataframe\">\n  <thead>\n    <tr style=\"text-align: right;\">\n      <th></th>\n      <th>address</th>\n      <th>postal_code</th>\n      <th>country</th>\n      <th>federal_district</th>\n      <th>region_type</th>\n      <th>region</th>\n      <th>area_type</th>\n      <th>area</th>\n      <th>city_type</th>\n      <th>city</th>\n      <th>...</th>\n      <th>fias_level</th>\n      <th>capital_marker</th>\n      <th>okato</th>\n      <th>oktmo</th>\n      <th>tax_office</th>\n      <th>timezone</th>\n      <th>geo_lat</th>\n      <th>geo_lon</th>\n      <th>population</th>\n      <th>foundation_year</th>\n    </tr>\n  </thead>\n  <tbody>\n    <tr>\n      <th>0</th>\n      <td>Респ Адыгея, г Адыгейск</td>\n      <td>385200.0</td>\n      <td>Россия</td>\n      <td>Южный</td>\n      <td>Респ</td>\n      <td>Адыгея</td>\n      <td>NaN</td>\n      <td>NaN</td>\n      <td>г</td>\n      <td>Адыгейск</td>\n      <td>...</td>\n      <td>4</td>\n      <td>0</td>\n      <td>79403000000</td>\n      <td>79703000001</td>\n      <td>107</td>\n      <td>UTC+3</td>\n      <td>44.878414</td>\n      <td>39.190289</td>\n      <td>12689</td>\n      <td>1969</td>\n    </tr>\n    <tr>\n      <th>1</th>\n      <td>г Майкоп</td>\n      <td>385000.0</td>\n      <td>Россия</td>\n      <td>Южный</td>\n      <td>Респ</td>\n      <td>Адыгея</td>\n      <td>NaN</td>\n      <td>NaN</td>\n      <td>г</td>\n      <td>Майкоп</td>\n      <td>...</td>\n      <td>4</td>\n      <td>2</td>\n      <td>79401000000</td>\n      <td>79701000001</td>\n      <td>105</td>\n      <td>UTC+3</td>\n      <td>44.609827</td>\n      <td>40.100661</td>\n      <td>144055</td>\n      <td>1857</td>\n    </tr>\n    <tr>\n      <th>2</th>\n      <td>г Горно-Алтайск</td>\n      <td>649000.0</td>\n      <td>Россия</td>\n      <td>Сибирский</td>\n      <td>Респ</td>\n      <td>Алтай</td>\n      <td>NaN</td>\n      <td>NaN</td>\n      <td>г</td>\n      <td>Горно-Алтайск</td>\n      <td>...</td>\n      <td>4</td>\n      <td>2</td>\n      <td>84401000000</td>\n      <td>84701000001</td>\n      <td>400</td>\n      <td>UTC+7</td>\n      <td>51.958103</td>\n      <td>85.960324</td>\n      <td>62861</td>\n      <td>1830</td>\n    </tr>\n    <tr>\n      <th>3</th>\n      <td>Алтайский край, г Алейск</td>\n      <td>658125.0</td>\n      <td>Россия</td>\n      <td>Сибирский</td>\n      <td>край</td>\n      <td>Алтайский</td>\n      <td>NaN</td>\n      <td>NaN</td>\n      <td>г</td>\n      <td>Алейск</td>\n      <td>...</td>\n      <td>4</td>\n      <td>0</td>\n      <td>1403000000</td>\n      <td>1703000001</td>\n      <td>2201</td>\n      <td>UTC+7</td>\n      <td>52.492251</td>\n      <td>82.779361</td>\n      <td>28528</td>\n      <td>1913</td>\n    </tr>\n    <tr>\n      <th>4</th>\n      <td>г Барнаул</td>\n      <td>656000.0</td>\n      <td>Россия</td>\n      <td>Сибирский</td>\n      <td>край</td>\n      <td>Алтайский</td>\n      <td>NaN</td>\n      <td>NaN</td>\n      <td>г</td>\n      <td>Барнаул</td>\n      <td>...</td>\n      <td>4</td>\n      <td>2</td>\n      <td>1401000000</td>\n      <td>1701000001</td>\n      <td>2200</td>\n      <td>UTC+7</td>\n      <td>53.347997</td>\n      <td>83.779806</td>\n      <td>635585</td>\n      <td>1730</td>\n    </tr>\n  </tbody>\n</table>\n<p>5 rows × 24 columns</p>\n</div>"
     },
     "execution_count": 3,
     "metadata": {},
     "output_type": "execute_result"
    }
   ],
   "source": [
    "cities.head()"
   ],
   "metadata": {
    "collapsed": false,
    "pycharm": {
     "name": "#%%\n"
    }
   }
  },
  {
   "cell_type": "code",
   "execution_count": 17,
   "outputs": [
    {
     "data": {
      "text/plain": "                                           address    geo_lat     geo_lon\n509                                       г Москва  55.754047   37.620405\n786                              г Санкт-Петербург  59.939131   30.315900\n647                                  г Новосибирск  55.028191   82.921149\n832                                 г Екатеринбург  56.838522   60.605491\n619                              г Нижний Новгород  56.324063   44.005391\n927                                       г Казань  55.794358   49.111497\n782                                       г Самара  53.195031   50.106952\n656                                         г Омск  54.984857   73.367452\n1064                                   г Челябинск  55.160262   61.400808\n757                               г Ростов-на-Дону  47.222457   39.718803\n62                                           г Уфа  54.734944   55.957847\n121                                    г Волгоград  48.707004   44.517034\n706                                        г Пермь  58.010258   56.234203\n411                                   г Красноярск  56.009388   92.852481\n159                                      г Воронеж  51.659333   39.196923\n801                                      г Саратов  51.533557   46.034257\n381                                    г Краснодар  45.040160   38.975965\n784                      Самарская обл, г Тольятти  53.520535   49.389403\n4                                        г Барнаул  53.347997   83.779806\n999                                       г Ижевск  56.852738   53.211490\n1008                                   г Ульяновск  54.307941   48.374849\n717                                  г Владивосток  43.116490  131.882394\n1116                                   г Ярославль  57.621548   39.897741\n223                                      г Иркутск  52.286404  104.280747\n995                                       г Тюмень  57.152974   65.534410\n177                                    г Махачкала  42.984916   47.504718\n1015                                   г Хабаровск  48.464726  135.059894\n666                                     г Оренбург  51.787509   55.101883\n322   Кемеровская область - Кузбасс, г Новокузнецк  53.794315   87.214275\n316                                     г Кемерово  55.391065   86.046778",
      "text/html": "<div>\n<style scoped>\n    .dataframe tbody tr th:only-of-type {\n        vertical-align: middle;\n    }\n\n    .dataframe tbody tr th {\n        vertical-align: top;\n    }\n\n    .dataframe thead th {\n        text-align: right;\n    }\n</style>\n<table border=\"1\" class=\"dataframe\">\n  <thead>\n    <tr style=\"text-align: right;\">\n      <th></th>\n      <th>address</th>\n      <th>geo_lat</th>\n      <th>geo_lon</th>\n    </tr>\n  </thead>\n  <tbody>\n    <tr>\n      <th>509</th>\n      <td>г Москва</td>\n      <td>55.754047</td>\n      <td>37.620405</td>\n    </tr>\n    <tr>\n      <th>786</th>\n      <td>г Санкт-Петербург</td>\n      <td>59.939131</td>\n      <td>30.315900</td>\n    </tr>\n    <tr>\n      <th>647</th>\n      <td>г Новосибирск</td>\n      <td>55.028191</td>\n      <td>82.921149</td>\n    </tr>\n    <tr>\n      <th>832</th>\n      <td>г Екатеринбург</td>\n      <td>56.838522</td>\n      <td>60.605491</td>\n    </tr>\n    <tr>\n      <th>619</th>\n      <td>г Нижний Новгород</td>\n      <td>56.324063</td>\n      <td>44.005391</td>\n    </tr>\n    <tr>\n      <th>927</th>\n      <td>г Казань</td>\n      <td>55.794358</td>\n      <td>49.111497</td>\n    </tr>\n    <tr>\n      <th>782</th>\n      <td>г Самара</td>\n      <td>53.195031</td>\n      <td>50.106952</td>\n    </tr>\n    <tr>\n      <th>656</th>\n      <td>г Омск</td>\n      <td>54.984857</td>\n      <td>73.367452</td>\n    </tr>\n    <tr>\n      <th>1064</th>\n      <td>г Челябинск</td>\n      <td>55.160262</td>\n      <td>61.400808</td>\n    </tr>\n    <tr>\n      <th>757</th>\n      <td>г Ростов-на-Дону</td>\n      <td>47.222457</td>\n      <td>39.718803</td>\n    </tr>\n    <tr>\n      <th>62</th>\n      <td>г Уфа</td>\n      <td>54.734944</td>\n      <td>55.957847</td>\n    </tr>\n    <tr>\n      <th>121</th>\n      <td>г Волгоград</td>\n      <td>48.707004</td>\n      <td>44.517034</td>\n    </tr>\n    <tr>\n      <th>706</th>\n      <td>г Пермь</td>\n      <td>58.010258</td>\n      <td>56.234203</td>\n    </tr>\n    <tr>\n      <th>411</th>\n      <td>г Красноярск</td>\n      <td>56.009388</td>\n      <td>92.852481</td>\n    </tr>\n    <tr>\n      <th>159</th>\n      <td>г Воронеж</td>\n      <td>51.659333</td>\n      <td>39.196923</td>\n    </tr>\n    <tr>\n      <th>801</th>\n      <td>г Саратов</td>\n      <td>51.533557</td>\n      <td>46.034257</td>\n    </tr>\n    <tr>\n      <th>381</th>\n      <td>г Краснодар</td>\n      <td>45.040160</td>\n      <td>38.975965</td>\n    </tr>\n    <tr>\n      <th>784</th>\n      <td>Самарская обл, г Тольятти</td>\n      <td>53.520535</td>\n      <td>49.389403</td>\n    </tr>\n    <tr>\n      <th>4</th>\n      <td>г Барнаул</td>\n      <td>53.347997</td>\n      <td>83.779806</td>\n    </tr>\n    <tr>\n      <th>999</th>\n      <td>г Ижевск</td>\n      <td>56.852738</td>\n      <td>53.211490</td>\n    </tr>\n    <tr>\n      <th>1008</th>\n      <td>г Ульяновск</td>\n      <td>54.307941</td>\n      <td>48.374849</td>\n    </tr>\n    <tr>\n      <th>717</th>\n      <td>г Владивосток</td>\n      <td>43.116490</td>\n      <td>131.882394</td>\n    </tr>\n    <tr>\n      <th>1116</th>\n      <td>г Ярославль</td>\n      <td>57.621548</td>\n      <td>39.897741</td>\n    </tr>\n    <tr>\n      <th>223</th>\n      <td>г Иркутск</td>\n      <td>52.286404</td>\n      <td>104.280747</td>\n    </tr>\n    <tr>\n      <th>995</th>\n      <td>г Тюмень</td>\n      <td>57.152974</td>\n      <td>65.534410</td>\n    </tr>\n    <tr>\n      <th>177</th>\n      <td>г Махачкала</td>\n      <td>42.984916</td>\n      <td>47.504718</td>\n    </tr>\n    <tr>\n      <th>1015</th>\n      <td>г Хабаровск</td>\n      <td>48.464726</td>\n      <td>135.059894</td>\n    </tr>\n    <tr>\n      <th>666</th>\n      <td>г Оренбург</td>\n      <td>51.787509</td>\n      <td>55.101883</td>\n    </tr>\n    <tr>\n      <th>322</th>\n      <td>Кемеровская область - Кузбасс, г Новокузнецк</td>\n      <td>53.794315</td>\n      <td>87.214275</td>\n    </tr>\n    <tr>\n      <th>316</th>\n      <td>г Кемерово</td>\n      <td>55.391065</td>\n      <td>86.046778</td>\n    </tr>\n  </tbody>\n</table>\n</div>"
     },
     "execution_count": 17,
     "metadata": {},
     "output_type": "execute_result"
    }
   ],
   "source": [
    "top_n = 30\n",
    "\n",
    "top_n_cities = cities.sort_values(by=['population'], ascending=False)[:top_n][['address', 'geo_lat', 'geo_lon']]\n",
    "top_n_cities"
   ],
   "metadata": {
    "collapsed": false,
    "pycharm": {
     "name": "#%%\n"
    }
   }
  },
  {
   "cell_type": "code",
   "execution_count": 24,
   "outputs": [],
   "source": [
    "from shapely.geometry import Point\n",
    "import geopandas as gpd\n",
    "\n",
    "\n",
    "geometry = [Point(xy) for xy in zip(top_n_cities['geo_lon'], top_n_cities['geo_lat'])]\n",
    "gdf = gpd.GeoDataFrame(top_n_cities, geometry=geometry)"
   ],
   "metadata": {
    "collapsed": false,
    "pycharm": {
     "name": "#%%\n"
    }
   }
  },
  {
   "cell_type": "code",
   "execution_count": 61,
   "outputs": [
    {
     "data": {
      "text/plain": "<AxesSubplot:>"
     },
     "execution_count": 61,
     "metadata": {},
     "output_type": "execute_result"
    },
    {
     "data": {
      "text/plain": "<Figure size 432x288 with 1 Axes>",
      "image/png": "[encoded data removed]"
     },
     "metadata": {
      "needs_background": "light"
     },
     "output_type": "display_data"
    }
   ],
   "source": [
    "world = gpd.read_file(gpd.datasets.get_path('naturalearth_lowres'))\n",
    "gdf.plot(marker='o', color='red', markersize=15)"
   ],
   "metadata": {
    "collapsed": false,
    "pycharm": {
     "name": "#%%\n"
    }
   }
  },
  {
   "cell_type": "code",
   "execution_count": 27,
   "outputs": [],
   "source": [
    "def distance_between_cities_in_order(permutation_of_cities):\n",
    "    distance = 0\n",
    "    for i in range(1, len(permutation_of_cities)):\n",
    "        distance += permutation_of_cities[i-1].distance_to(permutation_of_cities[i])\n",
    "    distance += permutation_of_cities[-1].distance_to(permutation_of_cities[0])\n",
    "    return distance"
   ],
   "metadata": {
    "collapsed": false,
    "pycharm": {
     "name": "#%%\n"
    }
   }
  },
  {
   "cell_type": "code",
   "execution_count": 45,
   "outputs": [],
   "source": [
    "import random\n",
    "\n",
    "\n",
    "def inverse_neighbour(permutation, i, j):\n",
    "    i, j = (i, j) if i < j else (j, i)\n",
    "    return [permutation[i + j - t] if i <= t <= j else permutation[t] for t in range(len(permutation))]\n",
    "\n",
    "\n",
    "def insert_neighbour(permutation, i, j):\n",
    "    i, j = (i, j) if i < j else (j, i)\n",
    "    return [permutation[j if t == i else t - 1] if i <= t <= j else permutation[t] for t in range(len(permutation))]\n",
    "\n",
    "\n",
    "def swap_neighbour(permutation, i, j):\n",
    "    swap = permutation.copy()\n",
    "    swap[i] = permutation[j]\n",
    "    swap[j] = permutation[i]\n",
    "    return swap\n",
    "\n",
    "\n",
    "def greedy_hybrid_neighbour(permutation, energy_fn):\n",
    "    i, j = random.sample(list(range(len(permutation))), 2)\n",
    "    inverse = inverse_neighbour(permutation, i, j)\n",
    "    insert = insert_neighbour(permutation, i, j)\n",
    "    swap = swap_neighbour(permutation, i, j)\n",
    "    neighbours = (inverse, insert, swap)\n",
    "    min_idx, min_energy = 0, 1e12\n",
    "    for i in range(len(neighbours)):\n",
    "        e = energy_fn(neighbours[i])\n",
    "        if e < min_energy:\n",
    "            min_idx = i\n",
    "            min_energy = e\n",
    "    return neighbours[min_idx], min_energy"
   ],
   "metadata": {
    "collapsed": false,
    "pycharm": {
     "name": "#%%\n"
    }
   }
  },
  {
   "cell_type": "code",
   "execution_count": 68,
   "outputs": [],
   "source": [
    "import math\n",
    "\n",
    "\n",
    "def find_approximately_optimal_permutation(\n",
    "        permutation,\n",
    "        energy_fn,\n",
    "        neighbour_fn,\n",
    "        initial_temp=1000,\n",
    "        cooling_rate=0.003,\n",
    "        start_idx=None,\n",
    "        report_interval=100\n",
    "):\n",
    "\n",
    "    temp = initial_temp\n",
    "    iterations_since_last_report = report_interval + 1\n",
    "    while temp > 1:\n",
    "        current_energy = energy_fn(permutation)\n",
    "        if iterations_since_last_report > report_interval:\n",
    "            print(f'Temperature: {temp:3.3f} Energy: {current_energy:7.3f}')\n",
    "            iterations_since_last_report = 0\n",
    "        else:\n",
    "            iterations_since_last_report += 1\n",
    "        new_permutation, new_energy = neighbour_fn(permutation, energy_fn)\n",
    "        if new_energy < current_energy or random.uniform(0, 1) < math.exp((current_energy - new_energy) / temp):\n",
    "            permutation = new_permutation\n",
    "        temp *= 1 - cooling_rate\n",
    "    print(f'Found optimal solution with energy: {current_energy:7.3f}')\n",
    "    if start_idx is not None:\n",
    "        permutation = permutation[start_idx:] + permutation[:start_idx]\n",
    "    return permutation"
   ],
   "metadata": {
    "collapsed": false,
    "pycharm": {
     "name": "#%%\n"
    }
   }
  },
  {
   "cell_type": "code",
   "execution_count": 69,
   "outputs": [],
   "source": [
    "list_top_n_cities = []\n",
    "for i in range(len(top_n_cities)):\n",
    "    list_top_n_cities.append(\n",
    "        City(\n",
    "            name=top_n_cities['address'].iloc[i],\n",
    "            geo_lat=top_n_cities['geo_lat'].iloc[i],\n",
    "            geo_lon=top_n_cities['geo_lon'].iloc[i]\n",
    "        )\n",
    "    )"
   ],
   "metadata": {
    "collapsed": false,
    "pycharm": {
     "name": "#%%\n"
    }
   }
  },
  {
   "cell_type": "code",
   "execution_count": 70,
   "outputs": [
    {
     "name": "stdout",
     "output_type": "stream",
     "text": [
      "Temperature: 1000.000 Energy: 65368.527\n",
      "Temperature: 736.048 Energy: 29843.785\n",
      "Temperature: 541.767 Energy: 23985.457\n",
      "Temperature: 398.766 Energy: 21779.404\n",
      "Temperature: 293.511 Energy: 20497.571\n",
      "Temperature: 216.038 Energy: 21132.412\n",
      "Temperature: 159.015 Energy: 20026.204\n",
      "Temperature: 117.042 Energy: 19461.969\n",
      "Temperature: 86.149 Energy: 18778.316\n",
      "Temperature: 63.410 Energy: 18650.251\n",
      "Temperature: 46.673 Energy: 18680.840\n",
      "Temperature: 34.353 Energy: 18680.840\n",
      "Temperature: 25.286 Energy: 18696.411\n",
      "Temperature: 18.611 Energy: 18696.411\n",
      "Temperature: 13.699 Energy: 18488.876\n",
      "Temperature: 10.083 Energy: 18488.876\n",
      "Temperature: 7.422 Energy: 18488.876\n",
      "Temperature: 5.463 Energy: 18488.876\n",
      "Temperature: 4.021 Energy: 18406.441\n",
      "Temperature: 2.959 Energy: 18406.441\n",
      "Temperature: 2.178 Energy: 18406.441\n",
      "Temperature: 1.603 Energy: 18406.441\n",
      "Temperature: 1.180 Energy: 18406.441\n",
      "Found optimal solution with energy: 18406.441\n"
     ]
    }
   ],
   "source": [
    "good_city_order = find_approximately_optimal_permutation(list_top_n_cities, distance_between_cities_in_order, greedy_hybrid_neighbour)"
   ],
   "metadata": {
    "collapsed": false,
    "pycharm": {
     "name": "#%%\n"
    }
   }
  },
  {
   "cell_type": "code",
   "execution_count": 72,
   "outputs": [
    {
     "name": "stdout",
     "output_type": "stream",
     "text": [
      "г Кемерово\n",
      "г Новосибирск\n",
      "г Тюмень\n",
      "г Екатеринбург\n",
      "г Пермь\n",
      "г Ижевск\n",
      "г Самара\n",
      "Самарская обл, г Тольятти\n",
      "г Ульяновск\n",
      "г Казань\n",
      "г Нижний Новгород\n",
      "г Ярославль\n",
      "г Санкт-Петербург\n",
      "г Москва\n",
      "г Воронеж\n",
      "г Саратов\n",
      "г Волгоград\n",
      "г Ростов-на-Дону\n",
      "г Краснодар\n",
      "г Махачкала\n",
      "г Оренбург\n",
      "г Уфа\n",
      "г Челябинск\n",
      "г Омск\n",
      "г Барнаул\n",
      "Кемеровская область - Кузбасс, г Новокузнецк\n",
      "г Иркутск\n",
      "г Владивосток\n",
      "г Хабаровск\n",
      "г Красноярск\n"
     ]
    }
   ],
   "source": [
    "for c in good_city_order:\n",
    "    print(c)"
   ],
   "metadata": {
    "collapsed": false,
    "pycharm": {
     "name": "#%%\n"
    }
   }
  },
  {
   "cell_type": "code",
   "execution_count": null,
   "outputs": [],
   "source": [],
   "metadata": {
    "collapsed": false,
    "pycharm": {
     "name": "#%%\n"
    }
   }
  }
 ],
 "metadata": {
  "kernelspec": {
   "display_name": "Python 3",
   "language": "python",
   "name": "python3"
  },
  "language_info": {
   "codemirror_mode": {
    "name": "ipython",
    "version": 2
   },
   "file_extension": ".py",
   "mimetype": "text/x-python",
   "name": "python",
   "nbconvert_exporter": "python",
   "pygments_lexer": "ipython2",
   "version": "2.7.6"
  }
 },
 "nbformat": 4,
 "nbformat_minor": 0
}